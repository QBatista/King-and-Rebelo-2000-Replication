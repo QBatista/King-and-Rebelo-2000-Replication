{
 "cells": [
  {
   "cell_type": "markdown",
   "metadata": {},
   "source": [
    "## Exercise 1\n",
    "\n",
    "**Note:** $w_t$ is used as a state variable in the problem but as a shock variable in the QuantEcon documentation. This might potentially confuse some students.\n",
    "\n",
    "**a.** Let $z_{t}=\\left[\\begin{array}{c}\n",
    "1\\\\\n",
    "s_{t}\\\\\n",
    "w_{t}\n",
    "\\end{array}\\right]$ and $\\epsilon_{t}=\\left[\\begin{array}{c}\n",
    "\\epsilon_{1,t}\\\\\n",
    "\\epsilon_{2,t}\n",
    "\\end{array}\\right]$. Then, we can obtain \n",
    "\n",
    "$$\\begin{eqnarray}\n",
    "z_{t+1} &=& A_{22}z_{t}+C_{2}\\epsilon_{t} \\\\\n",
    "\\left[\\begin{array}{c}\n",
    "s_{t}\\\\\n",
    "w_{t}\n",
    "\\end{array}\\right] &=& Sz_{t}\n",
    "\\end{eqnarray}$$\n",
    "\n",
    "by letting $A_{22}=\\left[\\begin{array}{ccc}\n",
    "1 & 0 & 0\\\\\n",
    "\\alpha_{s} & \\rho_{1} & 0\\\\\n",
    "\\alpha_{w} & 0 & \\gamma_{1}\n",
    "\\end{array}\\right]$, $C_{2}=\\left[\\begin{array}{cc}\n",
    "0 & 0\\\\\n",
    "\\sigma_{s} & 0\\\\\n",
    "0 & \\sigma_{w}\n",
    "\\end{array}\\right]$ and $S=\\left[\\begin{array}{ccc}\n",
    "0 & 1 & 0\\\\\n",
    "0 & 0 & 1\n",
    "\\end{array}\\right]$\n",
    "\n",
    "**b.** Let $x_{t}=\\left[\\begin{array}{c}\n",
    "z_{t}\\\\\n",
    "n_{t}\n",
    "\\end{array}\\right]$ and $u_{t}=\\left[\\begin{array}{c}\n",
    "n_{t+1}-n_{t}\\end{array}\\right]$. Then, we can map the problem into \n",
    "\n",
    "$$\\min\\mathbb{E}\\left[\\sum_{t=0}^{\\infty}\\beta^{t}r\\left(x_{t},u_{t}\\right)\\right]$$ \n",
    "\n",
    "where \n",
    "\n",
    "$$\\begin{eqnarray}\n",
    "r\\left(x_{t},u_{t}\\right) &=& x_{t}'Rx_{t}+u_{t}'Qu_{t}+2u_{t}'Nx_{t} \\\\ \n",
    "x_{t+1} &=& Ax_{t}+Bu_{t}+C\\epsilon_{t+1}\n",
    "\\end{eqnarray}$$\n",
    "\n",
    "by letting $R=\\left[\\begin{array}{cccc}\n",
    "0 & 0 & 0 & 0\\\\\n",
    "0 & 0 & 0 & -\\frac{1}{2}\\\\\n",
    "0 & 0 & 0 & \\frac{1}{2}\\\\\n",
    "0 & -\\frac{1}{2} & \\frac{1}{2} & f\n",
    "\\end{array}\\right]$, $Q=\\left[\\begin{array}{c}\n",
    "d\\end{array}\\right]$, $N=\\left[\\begin{array}{cccc}\n",
    "0 & 0 & 0 & 0\\end{array}\\right]$, $A=\\left[\\begin{array}{cc}\n",
    "A_{22} & 0\\\\\n",
    "0 & 1\n",
    "\\end{array}\\right]$, $B=\\left[\\begin{array}{c}\n",
    "0\\\\\n",
    "1\n",
    "\\end{array}\\right]$ and $C=\\left[\\begin{array}{c}\n",
    "C_{2}\\\\\n",
    "0\n",
    "\\end{array}\\right]$.\n",
    "\n",
    "The optimal policy is given by $u_{t}=-Fx_{t}$.\n",
    "Labor supply is given by $\\left[\\begin{array}{cccc}\n",
    "0 & 0 & 0 & 1\\end{array}\\right]\\left(A-BF\\right)x_{t}$."
   ]
  },
  {
   "cell_type": "markdown",
   "metadata": {},
   "source": [
    "## Exercise 2\n",
    "\n",
    "**Note:** I'm assuming you meant to change $\\alpha_{s}$ to $\\alpha_{b}$ as you did for $\\sigma$.\n",
    "\n",
    "**a.** Let $z_{t}=\\left[\\begin{array}{c}\n",
    "1\\\\\n",
    "b_{t}\\\\\n",
    "w_{t}\n",
    "\\end{array}\\right]$ and $\\epsilon_{t}=\\left[\\begin{array}{c}\n",
    "\\epsilon_{1,t}\\\\\n",
    "\\epsilon_{2,t}\n",
    "\\end{array}\\right]$. Then, we can obtain \n",
    "\n",
    "$$\\begin{eqnarray}\n",
    "z_{t+1} &=& A_{22}z_{t}+C_{2}\\epsilon_{t} \\\\\n",
    "\\left[\\begin{array}{c}\n",
    "b_{t}\\\\\n",
    "w_{t}\n",
    "\\end{array}\\right] &=& Sz_{t}\n",
    "\\end{eqnarray}$$\n",
    "\n",
    "by letting $A_{22}=\\left[\\begin{array}{ccc}\n",
    "1 & 0 & 0\\\\\n",
    "\\alpha_{b} & \\rho_{1} & 0\\\\\n",
    "\\alpha_{w} & 0 & \\gamma_{1}\n",
    "\\end{array}\\right]$, $C_{2}=\\left[\\begin{array}{cc}\n",
    "0 & 0\\\\\n",
    "\\sigma_{b} & 0\\\\\n",
    "0 & \\sigma_{w}\n",
    "\\end{array}\\right]$ and $S=\\left[\\begin{array}{ccc}\n",
    "0 & 1 & 0\\\\\n",
    "0 & 0 & 1\n",
    "\\end{array}\\right]$\n",
    "\n",
    "**b.** Let $x_{t}=\\left[\\begin{array}{c}\n",
    "z_{t}\\\\\n",
    "n_{t}\n",
    "\\end{array}\\right]$ and $u_{t}=\\left[\\begin{array}{c}\n",
    "n_{t+1}-n_{t}\\end{array}\\right]$. Then, we can map the problem into \n",
    "\n",
    "$$\\min\\mathbb{E}\\left[\\sum_{t=0}^{\\infty}\\beta^{t}r\\left(x_{t},u_{t}\\right)\\right]$$ \n",
    "\n",
    "where \n",
    "\n",
    "$$\\begin{eqnarray}\n",
    "r\\left(x_{t},u_{t}\\right) &=& x_{t}'Rx_{t}+u_{t}'Qu_{t}+2u_{t}'Nx_{t} \\\\ \n",
    "x_{t+1} &=& Ax_{t}+Bu_{t}+C\\epsilon_{t+1}\n",
    "\\end{eqnarray}$$\n",
    "\n",
    "by letting $R=\\left[\\begin{array}{cccc}\n",
    "0 & 0 & 0 & 0\\\\\n",
    "0 & 0 & 0 & \\frac{1}{2}\\\\\n",
    "0 & 0 & 0 & -\\frac{1}{2}\\\\\n",
    "0 & \\frac{1}{2} & -\\frac{1}{2} & f+4q\n",
    "\\end{array}\\right]$, $Q=\\left[\\begin{array}{c}\n",
    "q\\end{array}\\right]$, $N=\\left[\\begin{array}{cccc}\n",
    "0 & 0 & 0 & 2q\\end{array}\\right]$, $A=\\left[\\begin{array}{cc}\n",
    "A_{22} & 0\\\\\n",
    "0 & 1\n",
    "\\end{array}\\right]$, $B=\\left[\\begin{array}{c}\n",
    "0\\\\\n",
    "1\n",
    "\\end{array}\\right]$, and $C=\\left[\\begin{array}{c}\n",
    "C_{2}\\\\\n",
    "0\n",
    "\\end{array}\\right]$.\n",
    "\n",
    "The optimal policy is given by $u_{t}=-Fx_{t}$.\n",
    "Labor supply is given by $\\left[\\begin{array}{cccc}\n",
    "0 & 0 & 0 & 1\\end{array}\\right]\\left(A-BF\\right)x_{t}$."
   ]
  },
  {
   "cell_type": "markdown",
   "metadata": {},
   "source": [
    "## Exercise 3\n",
    "\n",
    "Let $x_{t}=\\left[\\begin{array}{c}\n",
    "z_{t}\\\\\n",
    "n_{t}\n",
    "\\end{array}\\right]$ and $u_{t}=\\left[\\begin{array}{c}\n",
    "n_{t+1}-n_{t}\\end{array}\\right]$. Then, we can map the problem into \n",
    "\n",
    "$$\\min\\mathbb{E}\\left[\\sum_{t=0}^{\\infty}\\beta^{t}r\\left(x_{t},u_{t}\\right)\\right]$$ \n",
    "\n",
    "where \n",
    "\n",
    "$$\\begin{eqnarray}\n",
    "r\\left(x_{t},u_{t}\\right) &=& x_{t}'Rx_{t}+u_{t}'Qu_{t}+2u_{t}'Nx_{t} \\\\ \n",
    "x_{t+1} &=& Ax_{t}+Bu_{t}+C\\epsilon_{t+1}\n",
    "\\end{eqnarray}$$\n",
    "\n",
    "by letting $R=\\left[\\begin{array}{cc}\n",
    "0 & S'\\left[\\begin{array}{c}\n",
    "-\\frac{1}{2}\\\\\n",
    "\\frac{1}{2}\n",
    "\\end{array}\\right]\\\\\n",
    "\\left[\\begin{array}{cc}\n",
    "-\\frac{1}{2} & \\frac{1}{2}\\end{array}\\right]S & f+h+4q\n",
    "\\end{array}\\right]$, $Q=\\left[\\begin{array}{c}\n",
    "d+q\\end{array}\\right]$, $N=\\left[\\begin{array}{cccc}\n",
    "0 & 0 & 0 & 2q\\end{array}\\right]$, $A=\\left[\\begin{array}{cc}\n",
    "A_{22} & 0\\\\\n",
    "0 & 1\n",
    "\\end{array}\\right]$, $B=\\left[\\begin{array}{c}\n",
    "0\\\\\n",
    "1\n",
    "\\end{array}\\right]$ and $C=\\left[\\begin{array}{c}\n",
    "C_{2}\\\\\n",
    "0\n",
    "\\end{array}\\right]$.\n",
    "\n",
    "The optimal policy is given by $u_{t}=-Fx_{t}$.\n",
    "Labor supply is given by $\\left[\\begin{array}{cccc}\n",
    "0 & 1\\end{array}\\right]\\left(A-BF\\right)x_{t}$."
   ]
  },
  {
   "cell_type": "code",
   "execution_count": 86,
   "metadata": {},
   "outputs": [],
   "source": [
    "import numpy as np\n",
    "import matplotlib.pyplot as plt\n",
    "import quantecon as qe\n",
    "\n",
    "np.set_printoptions(precision=4)"
   ]
  },
  {
   "cell_type": "code",
   "execution_count": 87,
   "metadata": {},
   "outputs": [],
   "source": [
    "# Parameters\n",
    "β = 0.9\n",
    "\n",
    "α_s = 5.\n",
    "ρ_1 = 0.\n",
    "σ_s = 0.\n",
    "\n",
    "α_b = 0.\n",
    "ρ_2 = 0.\n",
    "σ_b = 0.\n",
    "\n",
    "f = 1.\n",
    "h = 1.\n",
    "q = 0.\n",
    "d = 0."
   ]
  },
  {
   "cell_type": "code",
   "execution_count": 197,
   "metadata": {},
   "outputs": [],
   "source": [
    "# Planner LQ problem\n",
    "R_tilde = np.array([[0., 0., 0., 0.],\n",
    "                    [0., 0., 0., -1/2],\n",
    "                    [0., 0., 0., 1/2],\n",
    "                    [0., -1/2, 1/2, f + h + 4 * q]])\n",
    "\n",
    "Q_tilde = np.array([[d + q]])\n",
    "\n",
    "N_tilde = np.array([[0., 0., 0., 2 * q]])\n",
    "\n",
    "A_tilde = np.array([[1., 0., 0., 0.],\n",
    "                    [α_s, ρ_1, 0., 0.],\n",
    "                    [α_b, 0., ρ_2, 0.],\n",
    "                    [0., 0., 0., 1.]])\n",
    "\n",
    "B_tilde = np.array([[0.],\n",
    "                    [0.],\n",
    "                    [0.],\n",
    "                    [1.]])\n",
    "\n",
    "C_tilde = np.array([[0., 0.],\n",
    "                    [σ_s, 0.],\n",
    "                    [0., σ_b],\n",
    "                    [0., 0.]])\n",
    "\n",
    "lq_tilde = qe.LQ(Q_tilde, R_tilde, A_tilde, B_tilde, C=C_tilde, N=N_tilde, beta=β)\n",
    "P_tilde, F_tilde, d_tilde = lq_tilde.stationary_values()"
   ]
  },
  {
   "cell_type": "code",
   "execution_count": 198,
   "metadata": {},
   "outputs": [],
   "source": [
    "x_0_tilde = np.array([[1., 5., 0., 2.]])\n",
    "\n",
    "x_t_tilde = lq_tilde.compute_sequence(x_0_tilde, ts_length=1000)[0]"
   ]
  },
  {
   "cell_type": "code",
   "execution_count": 199,
   "metadata": {},
   "outputs": [
    {
     "data": {
      "image/png": "[encoded data removed]",
      "text/plain": [
       "<Figure size 432x288 with 1 Axes>"
      ]
     },
     "metadata": {
      "needs_background": "light"
     },
     "output_type": "display_data"
    }
   ],
   "source": [
    "n_t = x_t_tilde[3]\n",
    "plt.plot(n_t.ravel(), label='labor')\n",
    "plt.legend();"
   ]
  },
  {
   "cell_type": "code",
   "execution_count": 200,
   "metadata": {},
   "outputs": [
    {
     "data": {
      "text/plain": [
       "array([[1.5, 0. , 0. , ..., 0. , 0. , 0. ]])"
      ]
     },
     "execution_count": 200,
     "metadata": {},
     "output_type": "execute_result"
    }
   ],
   "source": [
    "P_tilde[[-1]] @ x_t_tilde"
   ]
  },
  {
   "cell_type": "code",
   "execution_count": 201,
   "metadata": {},
   "outputs": [
    {
     "data": {
      "image/png": "[encoded data removed]",
      "text/plain": [
       "<Figure size 432x288 with 1 Axes>"
      ]
     },
     "metadata": {
      "needs_background": "light"
     },
     "output_type": "display_data"
    }
   ],
   "source": [
    "mask = np.array([1., 1., 0., 1/2])\n",
    "w_t = -2 * mask * P_tilde[[-1]] @ x_t_tilde\n",
    "plt.plot(w_t.ravel(), label='wage')\n",
    "plt.legend();"
   ]
  },
  {
   "cell_type": "markdown",
   "metadata": {},
   "source": [
    "## Exercise 4\n",
    "\n",
    "**Note:** \n",
    "- Changing the notation is not necessary because you're not reusing it for something else.\n",
    "- The objective of the firm is not given\n",
    "- What's the point of $\\check{u}_{t}=\\check{u}_{t}$? Do you mean $\\hat{u}_{t}=\\hat{n}_{t+1}-\\hat{n}_{t}$? \n",
    "- Do you mean $\\hat{u}_{t}=-\\hat{F}\\hat{x}_{t}$?\n",
    "- Do you mean if you set $\\tilde{n}_{t}=\\hat{n}_{t}$?\n",
    "- Your $\\tilde{R}$ in the pseudo-code is not symmetric\n",
    "- Shouldn't your $W$ matrix be $\\left[\\begin{array}{cc}\n",
    "\\boldsymbol{0} & 2q\\end{array}\\right]$ in the pseudo-code?\n",
    "- The `LQ` class does minimization so all the signs need to be reversed"
   ]
  },
  {
   "cell_type": "code",
   "execution_count": 202,
   "metadata": {},
   "outputs": [],
   "source": [
    "# Firm LQ problem\n",
    "S_w = -2 * np.array([1., 1., 0., f / (f + h)]) * P_tilde[[-1]]\n",
    "S_s = np.array([[0., 1., 0., 0.]])\n",
    "cross_term = -(S_s - S_w) / 2\n",
    "\n",
    "n = A_tilde.shape[0]\n",
    "\n",
    "# R_hat = np.block([[np.zeros((n, n)), cross_term.T],\n",
    "#                   [cross_term, f]])\n",
    "\n",
    "R_hat = np.array([[0., 0., 0., 0., 0.],\n",
    "                  [0., 0., 0., 0., 0.],\n",
    "                  [0., 0., 0., 0., 0.],\n",
    "                  [0., 0., 0., 0., -1.],\n",
    "                  [0., 0., 0., -1., f]])\n",
    "\n",
    "Q_hat = np.array([[d]])\n",
    "\n",
    "N_hat = np.zeros((1, n + 1))\n",
    "\n",
    "A_hat = np.block([[A_tilde - B_tilde @ F_tilde, np.zeros((n, 1))],\n",
    "                  [np.zeros((1, n)), np.ones((1, 1))]])\n",
    "\n",
    "B_hat = np.array([[0.],\n",
    "                  [0.],\n",
    "                  [0.],\n",
    "                  [0.],\n",
    "                  [1.]])\n",
    "\n",
    "C_hat = np.vstack((C_tilde, np.zeros((1, C_tilde.shape[1]))))\n",
    "\n",
    "lq_hat = qe.LQ(Q_hat, R_hat, A_hat, B_hat, C=C_hat, N=N_hat, beta=β)\n",
    "P_hat, F_hat, d_hat = lq_hat.stationary_values()"
   ]
  },
  {
   "cell_type": "code",
   "execution_count": 203,
   "metadata": {},
   "outputs": [
    {
     "data": {
      "text/plain": [
       "array([[-1.25,  0.  ,  0.  ,  1.  ]])"
      ]
     },
     "execution_count": 203,
     "metadata": {},
     "output_type": "execute_result"
    }
   ],
   "source": [
    "F_tilde"
   ]
  },
  {
   "cell_type": "code",
   "execution_count": 204,
   "metadata": {},
   "outputs": [
    {
     "data": {
      "text/plain": [
       "array([[-1.25,  0.  ,  0.  ,  0.  ,  1.  ]])"
      ]
     },
     "execution_count": 204,
     "metadata": {},
     "output_type": "execute_result"
    }
   ],
   "source": [
    "F_hat"
   ]
  },
  {
   "cell_type": "code",
   "execution_count": 205,
   "metadata": {},
   "outputs": [
    {
     "data": {
      "image/png": "[encoded data removed]",
      "text/plain": [
       "<Figure size 432x288 with 1 Axes>"
      ]
     },
     "metadata": {
      "needs_background": "light"
     },
     "output_type": "display_data"
    }
   ],
   "source": [
    "x_0_hat = np.array([[1., 5., 0., 1.25, 1.25]]).T\n",
    "x_t_hat = lq_hat.compute_sequence(x_0_hat, ts_length=1000)[0]\n",
    "\n",
    "plt.plot(x_t_hat[3])\n",
    "plt.plot(x_t_hat[4]);"
   ]
  },
  {
   "cell_type": "markdown",
   "metadata": {},
   "source": [
    "## Exercise 5"
   ]
  },
  {
   "cell_type": "code",
   "execution_count": 206,
   "metadata": {},
   "outputs": [],
   "source": [
    "# Worker LQ problem\n",
    "S_b = np.array([[0., 0., 1., 0.]])\n",
    "cross_term = (S_b - S_w) / 2\n",
    "\n",
    "n = A_tilde.shape[0]\n",
    "\n",
    "R_hat = np.block([[np.zeros((n, n)), cross_term.T],\n",
    "                  [cross_term, h + 4 * q]])\n",
    "\n",
    "Q_hat = np.array([[d]])\n",
    "\n",
    "N_hat = np.array([[0., 0., 0., 0., 2 * q]])\n",
    "\n",
    "A_hat = np.block([[A_tilde - B_tilde @ F_tilde, np.zeros((n, 1))],\n",
    "                  [np.zeros((1, n)), np.ones((1, 1))]])\n",
    "\n",
    "B_hat = np.array([[0.],\n",
    "                  [0.],\n",
    "                  [0.],\n",
    "                  [0.],\n",
    "                  [1.]])\n",
    "\n",
    "C_hat = np.vstack((C_tilde, np.zeros((1, C_tilde.shape[1]))))\n",
    "\n",
    "lq_hat = qe.LQ(Q_hat, R_hat, A_hat, B_hat, C=C_hat, N=N_hat, beta=β)\n",
    "P_hat, F_hat, d_hat = lq_hat.stationary_values()"
   ]
  },
  {
   "cell_type": "code",
   "execution_count": 207,
   "metadata": {},
   "outputs": [
    {
     "data": {
      "text/plain": [
       "[<matplotlib.lines.Line2D at 0x820c486d8>]"
      ]
     },
     "execution_count": 207,
     "metadata": {},
     "output_type": "execute_result"
    },
    {
     "data": {
      "image/png": "[encoded data removed]",
      "text/plain": [
       "<Figure size 432x288 with 1 Axes>"
      ]
     },
     "metadata": {
      "needs_background": "light"
     },
     "output_type": "display_data"
    }
   ],
   "source": [
    "x_0_hat = np.array([[1., 5., 0., 1.25, 1.25]]).T\n",
    "x_t_hat = lq_hat.compute_sequence(x_0_hat, ts_length=1000)[0]\n",
    "\n",
    "plt.plot(x_t_hat[3])\n",
    "plt.plot(x_t_hat[4])"
   ]
  },
  {
   "cell_type": "code",
   "execution_count": null,
   "metadata": {},
   "outputs": [],
   "source": []
  }
 ],
 "metadata": {
  "kernelspec": {
   "display_name": "Python 3",
   "language": "python",
   "name": "python3"
  },
  "language_info": {
   "codemirror_mode": {
    "name": "ipython",
    "version": 3
   },
   "file_extension": ".py",
   "mimetype": "text/x-python",
   "name": "python",
   "nbconvert_exporter": "python",
   "pygments_lexer": "ipython3",
   "version": "3.7.1"
  }
 },
 "nbformat": 4,
 "nbformat_minor": 2
}
