{
 "cells": [
  {
   "cell_type": "markdown",
   "metadata": {},
   "source": [
    "## Exercise 1\n",
    "\n",
    "**Note:** \n",
    "- $w_t$ is used as a state variable in the problem but as a shock variable in the QuantEcon documentation. This might potentially confuse some students.\n",
    "- In exercise 3, you use $A_p$, $B_p$ and $C_p$ as notation -- did you mean to use $A_f$, $B_f$ and $C_f$ here?\n",
    "\n",
    "**a.** Let $z_{t}=\\left[\\begin{array}{c}\n",
    "1\\\\\n",
    "s_{t}\\\\\n",
    "w_{t}\n",
    "\\end{array}\\right]$ and $\\epsilon_{t}=\\left[\\begin{array}{c}\n",
    "\\epsilon_{1,t}\\\\\n",
    "\\epsilon_{2,t}\n",
    "\\end{array}\\right]$. Then, we can obtain \n",
    "\n",
    "$$\\begin{eqnarray}\n",
    "z_{t+1} &=& A_{22}z_{t}+C_{2}\\epsilon_{t} \\\\\n",
    "\\left[\\begin{array}{c}\n",
    "s_{t}\\\\\n",
    "w_{t}\n",
    "\\end{array}\\right] &=& Sz_{t}\n",
    "\\end{eqnarray}$$\n",
    "\n",
    "by letting $A_{22}=\\left[\\begin{array}{ccc}\n",
    "1 & 0 & 0\\\\\n",
    "\\alpha_{s} & \\rho_{1} & 0\\\\\n",
    "\\alpha_{w} & 0 & \\gamma_{1}\n",
    "\\end{array}\\right]$, $C_{2}=\\left[\\begin{array}{cc}\n",
    "0 & 0\\\\\n",
    "\\sigma_{s} & 0\\\\\n",
    "0 & \\sigma_{w}\n",
    "\\end{array}\\right]$ and $S=\\left[\\begin{array}{ccc}\n",
    "0 & 1 & 0\\\\\n",
    "0 & 0 & 1\n",
    "\\end{array}\\right]$\n",
    "\n",
    "**b.** Let $x_{t}=\\left[\\begin{array}{c}\n",
    "z_{t}\\\\\n",
    "n_{t}\n",
    "\\end{array}\\right]$ and $u_{t}=\\left[\\begin{array}{c}\n",
    "n_{t+1}-n_{t}\\end{array}\\right]$. Then, we can map the problem into \n",
    "\n",
    "$$\\min\\mathbb{E}\\left[\\sum_{t=0}^{\\infty}\\beta^{t}r\\left(x_{t},u_{t}\\right)\\right]$$ \n",
    "\n",
    "where \n",
    "\n",
    "$$\\begin{eqnarray}\n",
    "r\\left(x_{t},u_{t}\\right) &=& x_{t}'R_{f}x_{t}+u_{t}'Q_{f}u_{t}+2u_{t}'N_{f}x_{t} \\\\ \n",
    "x_{t+1} &=& Ax_{t}+Bu_{t}+C\\epsilon_{t+1}\n",
    "\\end{eqnarray}$$\n",
    "\n",
    "by letting $R_{f}=\\left[\\begin{array}{cccc}\n",
    "0 & 0 & 0 & 0\\\\\n",
    "0 & 0 & 0 & -\\frac{1}{2}\\\\\n",
    "0 & 0 & 0 & \\frac{1}{2}\\\\\n",
    "0 & -\\frac{1}{2} & \\frac{1}{2} & f\n",
    "\\end{array}\\right]$, $Q_{f}=\\left[\\begin{array}{c}\n",
    "d\\end{array}\\right]$, $N_{f}=\\left[\\begin{array}{cccc}\n",
    "0 & 0 & 0 & 0\\end{array}\\right]$, $A=\\left[\\begin{array}{cc}\n",
    "A_{22} & 0\\\\\n",
    "0 & 1\n",
    "\\end{array}\\right]$, $B=\\left[\\begin{array}{c}\n",
    "0\\\\\n",
    "1\n",
    "\\end{array}\\right]$ and $C=\\left[\\begin{array}{c}\n",
    "C_{2}\\\\\n",
    "0\n",
    "\\end{array}\\right]$.\n",
    "\n",
    "The optimal policy is given by $u_{t}=-F_{f}x_{t}$.\n",
    "Labor supply is given by $\\left[\\begin{array}{cccc}\n",
    "0 & 0 & 0 & 1\\end{array}\\right]\\left(A-BF_{f}\\right)x_{t}$."
   ]
  },
  {
   "cell_type": "markdown",
   "metadata": {},
   "source": [
    "## Exercise 2\n",
    "\n",
    "**a.** Let $z_{t}=\\left[\\begin{array}{c}\n",
    "1\\\\\n",
    "b_{t}\\\\\n",
    "w_{t}\n",
    "\\end{array}\\right]$ and $\\epsilon_{t}=\\left[\\begin{array}{c}\n",
    "\\epsilon_{1,t}\\\\\n",
    "\\epsilon_{2,t}\n",
    "\\end{array}\\right]$. Then, we can obtain \n",
    "\n",
    "$$\\begin{eqnarray}\n",
    "z_{t+1} &=& A_{22}z_{t}+C_{2}\\epsilon_{t} \\\\\n",
    "\\left[\\begin{array}{c}\n",
    "b_{t}\\\\\n",
    "w_{t}\n",
    "\\end{array}\\right] &=& Sz_{t}\n",
    "\\end{eqnarray}$$\n",
    "\n",
    "by letting $A_{22}=\\left[\\begin{array}{ccc}\n",
    "1 & 0 & 0\\\\\n",
    "\\alpha_{b} & \\rho_{1} & 0\\\\\n",
    "\\alpha_{w} & 0 & \\gamma_{1}\n",
    "\\end{array}\\right]$, $C_{2}=\\left[\\begin{array}{cc}\n",
    "0 & 0\\\\\n",
    "\\sigma_{b} & 0\\\\\n",
    "0 & \\sigma_{w}\n",
    "\\end{array}\\right]$ and $S=\\left[\\begin{array}{ccc}\n",
    "0 & 1 & 0\\\\\n",
    "0 & 0 & 1\n",
    "\\end{array}\\right]$\n",
    "\n",
    "**b.** Let $x_{t}=\\left[\\begin{array}{c}\n",
    "z_{t}\\\\\n",
    "n_{t}\n",
    "\\end{array}\\right]$ and $u_{t}=\\left[\\begin{array}{c}\n",
    "n_{t+1}-n_{t}\\end{array}\\right]$. Then, we can map the problem into \n",
    "\n",
    "$$\\min\\mathbb{E}\\left[\\sum_{t=0}^{\\infty}\\beta^{t}r\\left(x_{t},u_{t}\\right)\\right]$$ \n",
    "\n",
    "where \n",
    "\n",
    "$$\\begin{eqnarray}\n",
    "r\\left(x_{t},u_{t}\\right) &=& x_{t}'R_{w}x_{t}+u_{t}'Q_{w}u_{t}+2u_{t}'N_{w}x_{t} \\\\ \n",
    "x_{t+1} &=& Ax_{t}+Bu_{t}+C\\epsilon_{t+1}\n",
    "\\end{eqnarray}$$\n",
    "\n",
    "by letting $R_{w}=\\left[\\begin{array}{cccc}\n",
    "0 & 0 & 0 & 0\\\\\n",
    "0 & 0 & 0 & \\frac{1}{2}\\\\\n",
    "0 & 0 & 0 & -\\frac{1}{2}\\\\\n",
    "0 & \\frac{1}{2} & -\\frac{1}{2} & f+4q\n",
    "\\end{array}\\right]$, $Q_{w}=\\left[\\begin{array}{c}\n",
    "q\\end{array}\\right]$, $N_{w}=\\left[\\begin{array}{cccc}\n",
    "0 & 0 & 0 & 2q\\end{array}\\right]$, $A=\\left[\\begin{array}{cc}\n",
    "A_{22} & 0\\\\\n",
    "0 & 1\n",
    "\\end{array}\\right]$, $B=\\left[\\begin{array}{c}\n",
    "0\\\\\n",
    "1\n",
    "\\end{array}\\right]$, and $C=\\left[\\begin{array}{c}\n",
    "C_{2}\\\\\n",
    "0\n",
    "\\end{array}\\right]$.\n",
    "\n",
    "The optimal policy is given by $u_{t}=-F_{w}x_{t}$.\n",
    "Labor supply is given by $\\left[\\begin{array}{cccc}\n",
    "0 & 0 & 0 & 1\\end{array}\\right]\\left(A-BF_{w}\\right)x_{t}$."
   ]
  },
  {
   "cell_type": "markdown",
   "metadata": {},
   "source": [
    "## Exercise 3\n",
    "\n",
    "Let $x_{t}=\\left[\\begin{array}{c}\n",
    "z_{t}\\\\\n",
    "n_{t}\n",
    "\\end{array}\\right]$ and $u_{t}=\\left[\\begin{array}{c}\n",
    "n_{t+1}-n_{t}\\end{array}\\right]$. Then, we can map the problem into \n",
    "\n",
    "$$\\min\\mathbb{E}\\left[\\sum_{t=0}^{\\infty}\\beta^{t}r\\left(x_{t},u_{t}\\right)\\right]$$ \n",
    "\n",
    "where \n",
    "\n",
    "$$\\begin{eqnarray}\n",
    "r\\left(x_{t},u_{t}\\right) &=& x_{t}'R_{p}x_{t}+u_{t}'Q_{p}u_{t}+2u_{t}'N_{p}x_{t} \\\\ \n",
    "x_{t+1} &=& A_{p}x_{t}+B_{p}u_{t}+C_{p}\\epsilon_{t+1}\n",
    "\\end{eqnarray}$$\n",
    "\n",
    "by letting $R_{p}=\\left[\\begin{array}{cc}\n",
    "0 & S'\\left[\\begin{array}{c}\n",
    "-\\frac{1}{2}\\\\\n",
    "\\frac{1}{2}\n",
    "\\end{array}\\right]\\\\\n",
    "\\left[\\begin{array}{cc}\n",
    "-\\frac{1}{2} & \\frac{1}{2}\\end{array}\\right]S & f+h+4q\n",
    "\\end{array}\\right]$, $Q_{p}=\\left[\\begin{array}{c}\n",
    "d+q\\end{array}\\right]$, $N_{p}=\\left[\\begin{array}{cccc}\n",
    "0 & 0 & 0 & 2q\\end{array}\\right]$, $A_{p}=\\left[\\begin{array}{cc}\n",
    "A_{22} & 0\\\\\n",
    "0 & 1\n",
    "\\end{array}\\right]$, $B_{p}=\\left[\\begin{array}{c}\n",
    "0\\\\\n",
    "1\n",
    "\\end{array}\\right]$ and $C_{p}=\\left[\\begin{array}{c}\n",
    "C_{2}\\\\\n",
    "0\n",
    "\\end{array}\\right]$.\n",
    "\n",
    "The optimal policy is given by $u_{t}=-F_{p}x_{t}$.\n",
    "Labor supply is given by $\\left[\\begin{array}{cccc}\n",
    "0 & 1\\end{array}\\right]\\left(A_{p}-B_{p}F_{p}\\right)x_{t}$."
   ]
  },
  {
   "cell_type": "code",
   "execution_count": 1,
   "metadata": {},
   "outputs": [],
   "source": [
    "import numpy as np\n",
    "import matplotlib.pyplot as plt\n",
    "import quantecon as qe\n",
    "\n",
    "np.set_printoptions(precision=4)"
   ]
  },
  {
   "cell_type": "code",
   "execution_count": 2,
   "metadata": {},
   "outputs": [],
   "source": [
    "# Parameters\n",
    "β = 0.9\n",
    "\n",
    "α_s = 5.\n",
    "ρ_1 = 0.\n",
    "σ_s = 0.\n",
    "\n",
    "α_b = 0.\n",
    "ρ_2 = 0.\n",
    "σ_b = 0.\n",
    "\n",
    "f = 1.\n",
    "h = 1.\n",
    "q = 0.\n",
    "d = 0."
   ]
  },
  {
   "cell_type": "code",
   "execution_count": 3,
   "metadata": {},
   "outputs": [],
   "source": [
    "# Planner LQ problem\n",
    "R_tilde = np.array([[0., 0., 0., 0.],\n",
    "                    [0., 0., 0., -1/2],\n",
    "                    [0., 0., 0., 1/2],\n",
    "                    [0., -1/2, 1/2, f + h + 4 * q]])\n",
    "\n",
    "Q_tilde = np.array([[d + q]])\n",
    "\n",
    "N_tilde = np.array([[0., 0., 0., 2 * q]])\n",
    "\n",
    "A_tilde = np.array([[1., 0., 0., 0.],\n",
    "                    [α_s, ρ_1, 0., 0.],\n",
    "                    [α_b, 0., ρ_2, 0.],\n",
    "                    [0., 0., 0., 1.]])\n",
    "\n",
    "B_tilde = np.array([[0.],\n",
    "                    [0.],\n",
    "                    [0.],\n",
    "                    [1.]])\n",
    "\n",
    "C_tilde = np.array([[0., 0.],\n",
    "                    [σ_s, 0.],\n",
    "                    [0., σ_b],\n",
    "                    [0., 0.]])\n",
    "\n",
    "lq_tilde = qe.LQ(Q_tilde, R_tilde, A_tilde, B_tilde, C=C_tilde, N=N_tilde, beta=β)\n",
    "P_tilde, F_tilde, d_tilde = lq_tilde.stationary_values()"
   ]
  },
  {
   "cell_type": "code",
   "execution_count": 4,
   "metadata": {},
   "outputs": [],
   "source": [
    "x_0_tilde = np.array([[1., 5., 0., 1.25]])\n",
    "\n",
    "x_t_tilde = lq_tilde.compute_sequence(x_0_tilde, ts_length=1000)[0]"
   ]
  },
  {
   "cell_type": "code",
   "execution_count": 5,
   "metadata": {},
   "outputs": [
    {
     "data": {
      "image/png": "[encoded data removed]",
      "text/plain": [
       "<Figure size 432x288 with 1 Axes>"
      ]
     },
     "metadata": {
      "needs_background": "light"
     },
     "output_type": "display_data"
    }
   ],
   "source": [
    "n_t = x_t_tilde[3]\n",
    "plt.plot(n_t.ravel(), label='labor')\n",
    "plt.legend();"
   ]
  },
  {
   "cell_type": "code",
   "execution_count": 6,
   "metadata": {},
   "outputs": [
    {
     "data": {
      "text/plain": [
       "array([[0., 0., 0., ..., 0., 0., 0.]])"
      ]
     },
     "execution_count": 6,
     "metadata": {},
     "output_type": "execute_result"
    }
   ],
   "source": [
    "P_tilde[[-1]] @ x_t_tilde"
   ]
  },
  {
   "cell_type": "code",
   "execution_count": 7,
   "metadata": {},
   "outputs": [
    {
     "data": {
      "image/png": "[encoded data removed]",
      "text/plain": [
       "<Figure size 432x288 with 1 Axes>"
      ]
     },
     "metadata": {
      "needs_background": "light"
     },
     "output_type": "display_data"
    }
   ],
   "source": [
    "mask = np.array([1., 1., 0., 1/2])\n",
    "w_t = -2 * mask * P_tilde[[-1]] @ x_t_tilde\n",
    "plt.plot(w_t.ravel(), label='wage')\n",
    "plt.legend();"
   ]
  },
  {
   "cell_type": "code",
   "execution_count": 8,
   "metadata": {},
   "outputs": [
    {
     "data": {
      "text/plain": [
       "array([[2.5, 2.5, 2.5, ..., 2.5, 2.5, 2.5]])"
      ]
     },
     "execution_count": 8,
     "metadata": {},
     "output_type": "execute_result"
    }
   ],
   "source": [
    "w_t"
   ]
  },
  {
   "cell_type": "markdown",
   "metadata": {},
   "source": [
    "## Exercise 4\n",
    "\n",
    "**Note:** \n",
    "- Changing the notation is not necessary because you're not reusing it for something else.\n",
    "- Your $\\tilde{R}$ in the pseudo-code is not symmetric\n",
    "- Shouldn't your $W$ matrix be $\\left[\\begin{array}{cc}\n",
    "\\boldsymbol{0} & 2q\\end{array}\\right]$ in the pseudo-code?\n",
    "- The `LQ` class does minimization so all the signs need to be reversed\n",
    "- Shouldn't $\\tilde{R}_f$ be symmetric?"
   ]
  },
  {
   "cell_type": "markdown",
   "metadata": {},
   "source": [
    "The dimensions of your matrices don't match in the Sylvester equation. Assuming $z_t$ has length $n$, the $A_p$ is an $n$ by $n$ matrix and therefore, so is $A_p-B_pF_p$. However, if $\\tilde{x}_t'\\tilde{R_f}\\tilde{x}_t$ is valid, $\\tilde{R_f}$ must be $n+1$ by $n+1$. Therefore, $\\tilde{R}_{f}+F_{p}'\\tilde{Q}_{f}F_{p}+\\beta A_{p}'P_{w}\\left(A_{p}-B_{p}F_{p}\\right)$ must be invalid. I'm guessing what you meant is $z_t'\\tilde{R_f}z_t=s_{t}n_{t}-f\\tilde{n}_{t}^{2}$. This is achived by setting $\\tilde{R}_{f}=\\left[\\begin{array}{cccc}\n",
    "0 & 0 & 0 & 0\\\\\n",
    "0 & 0 & 0 & -\\frac{1}{2}\\\\\n",
    "0 & 0 & 0 & 0\\\\\n",
    "0 & -\\frac{1}{2} & 0 & f\n",
    "\\end{array}\\right]$ and $\\tilde{Q}_{f}=\\left[\\begin{array}{c}\n",
    "d\\end{array}\\right]$."
   ]
  },
  {
   "cell_type": "markdown",
   "metadata": {},
   "source": [
    "I'm guessing that what you want to do is evaluate the policy for the firm implied by solving the social planner problem. If so, I believe that the equation we want to solve is the following **Lyapunov** equation:\n",
    "\n",
    "$$P_{w}=\\tilde{R}_{f}+F_{p}'\\tilde{Q}_{f}F_{p}+\\beta\\left(A_{p}-B_{p}F_{p}\\right)'P_{w}\\left(A_{p}-B_{p}F_{p}\\right)$$\n",
    "\n",
    "I'll also solve your Sylvester equation first in case I'm wrong. "
   ]
  },
  {
   "cell_type": "code",
   "execution_count": 9,
   "metadata": {},
   "outputs": [],
   "source": [
    "R_tilde_f = np.array([[0., 0., 0., 0.],\n",
    "                      [0., 0., 0., -1/2],\n",
    "                      [0., 0., 0., 0.],\n",
    "                      [0., -1/2, 0., f],])\n",
    "\n",
    "Q_tilde_f = np.array([[d]])"
   ]
  },
  {
   "cell_type": "markdown",
   "metadata": {},
   "source": [
    "SciPy has a solver for Sylvester equations of the form: \n",
    "\n",
    "$$AX+XB=Q$$ \n",
    "\n",
    "Therefore, we want to find matrices $A_{S}$, $B_{S}$ and $Q_{S}$ such that:\n",
    "\n",
    "$$A_{S}P_{w}+P_{w}B_{S}=Q_{S}\\Longleftrightarrow P_{w}=\\tilde{R}_{f}+F_{p}'\\tilde{Q}_{f}F_{p}+\\beta A_{p}'P_{w}\\left(A_{p}-B_{p}F_{p}\\right)$$ \n",
    "\n",
    "Letting $A_{S}=\\beta A_{p}'$, $Q_{S}=-\\left(\\tilde{R}_{f}+F_{p}'\\tilde{Q}_{f}F_{p}\\right)\\left(A_{p}-B_{p}F_{p}\\right)^{-1}$ (assuming the inverse exists) and $B_{S}=-\\left(A_{p}-B_{p}F_{p}\\right)^{-1}$, we obtain: \n",
    "\n",
    "$$\\beta A_{p}'P_{w}-P_{w}\\left(A_{p}-B_{p}F_{p}\\right)^{-1}=-\\left(\\tilde{R}_{f}+F_{p}'\\tilde{Q}_{f}F_{p}\\right)\\left(A_{p}-B_{p}F_{p}\\right)^{-1}$$\n",
    "\n",
    "Post-multiplying by $\\left(A_{p}-B_{p}F_{p}\\right)$, we obtain the required equation.\n",
    "\n",
    "Alternatively, we can let $A_{S}=-\\left(\\beta A_{p}'\\right)^{-1}$, $B_{S}=\\left(A_{p}-B_{p}F_{p}\\right)$ and $Q_{S}=-\\left(\\beta A_{p}'\\right)^{-1}\\left(\\tilde{R}_{f}+F_{p}'\\tilde{Q}_{f}F_{p}\\right)$. \n",
    "\n",
    "**Note:** The inverses don't necessarily exists depending on parameter values."
   ]
  },
  {
   "cell_type": "code",
   "execution_count": 10,
   "metadata": {},
   "outputs": [
    {
     "ename": "LinAlgError",
     "evalue": "Singular matrix",
     "output_type": "error",
     "traceback": [
      "\u001b[0;31m---------------------------------------------------------------------------\u001b[0m",
      "\u001b[0;31mLinAlgError\u001b[0m                               Traceback (most recent call last)",
      "\u001b[0;32m<ipython-input-10-905271a33b0f>\u001b[0m in \u001b[0;36m<module>\u001b[0;34m\u001b[0m\n\u001b[1;32m      1\u001b[0m \u001b[0;32mfrom\u001b[0m \u001b[0mscipy\u001b[0m\u001b[0;34m.\u001b[0m\u001b[0mlinalg\u001b[0m \u001b[0;32mimport\u001b[0m \u001b[0msolve_sylvester\u001b[0m\u001b[0;34m\u001b[0m\u001b[0;34m\u001b[0m\u001b[0m\n\u001b[1;32m      2\u001b[0m \u001b[0;34m\u001b[0m\u001b[0m\n\u001b[0;32m----> 3\u001b[0;31m \u001b[0mA_sylvester\u001b[0m \u001b[0;34m=\u001b[0m \u001b[0;34m-\u001b[0m\u001b[0mnp\u001b[0m\u001b[0;34m.\u001b[0m\u001b[0mlinalg\u001b[0m\u001b[0;34m.\u001b[0m\u001b[0minv\u001b[0m\u001b[0;34m(\u001b[0m\u001b[0mβ\u001b[0m \u001b[0;34m*\u001b[0m \u001b[0mA_tilde\u001b[0m\u001b[0;34m.\u001b[0m\u001b[0mT\u001b[0m\u001b[0;34m)\u001b[0m\u001b[0;34m\u001b[0m\u001b[0;34m\u001b[0m\u001b[0m\n\u001b[0m\u001b[1;32m      4\u001b[0m \u001b[0mB_sylvester\u001b[0m \u001b[0;34m=\u001b[0m \u001b[0mA_tilde\u001b[0m \u001b[0;34m-\u001b[0m \u001b[0mB_tilde\u001b[0m \u001b[0;34m@\u001b[0m \u001b[0mF_tilde\u001b[0m\u001b[0;34m\u001b[0m\u001b[0;34m\u001b[0m\u001b[0m\n\u001b[1;32m      5\u001b[0m \u001b[0mQ_sylvester\u001b[0m \u001b[0;34m=\u001b[0m \u001b[0mA_sylvester\u001b[0m \u001b[0;34m@\u001b[0m \u001b[0;34m(\u001b[0m\u001b[0mR_tilde_f\u001b[0m \u001b[0;34m+\u001b[0m \u001b[0mF_tilde\u001b[0m\u001b[0;34m.\u001b[0m\u001b[0mT\u001b[0m \u001b[0;34m@\u001b[0m \u001b[0mQ_tilde_f\u001b[0m \u001b[0;34m@\u001b[0m \u001b[0mF_tilde\u001b[0m\u001b[0;34m)\u001b[0m\u001b[0;34m\u001b[0m\u001b[0;34m\u001b[0m\u001b[0m\n",
      "\u001b[0;32m/anaconda3/lib/python3.7/site-packages/numpy/linalg/linalg.py\u001b[0m in \u001b[0;36minv\u001b[0;34m(a)\u001b[0m\n\u001b[1;32m    530\u001b[0m     \u001b[0msignature\u001b[0m \u001b[0;34m=\u001b[0m \u001b[0;34m'D->D'\u001b[0m \u001b[0;32mif\u001b[0m \u001b[0misComplexType\u001b[0m\u001b[0;34m(\u001b[0m\u001b[0mt\u001b[0m\u001b[0;34m)\u001b[0m \u001b[0;32melse\u001b[0m \u001b[0;34m'd->d'\u001b[0m\u001b[0;34m\u001b[0m\u001b[0;34m\u001b[0m\u001b[0m\n\u001b[1;32m    531\u001b[0m     \u001b[0mextobj\u001b[0m \u001b[0;34m=\u001b[0m \u001b[0mget_linalg_error_extobj\u001b[0m\u001b[0;34m(\u001b[0m\u001b[0m_raise_linalgerror_singular\u001b[0m\u001b[0;34m)\u001b[0m\u001b[0;34m\u001b[0m\u001b[0;34m\u001b[0m\u001b[0m\n\u001b[0;32m--> 532\u001b[0;31m     \u001b[0mainv\u001b[0m \u001b[0;34m=\u001b[0m \u001b[0m_umath_linalg\u001b[0m\u001b[0;34m.\u001b[0m\u001b[0minv\u001b[0m\u001b[0;34m(\u001b[0m\u001b[0ma\u001b[0m\u001b[0;34m,\u001b[0m \u001b[0msignature\u001b[0m\u001b[0;34m=\u001b[0m\u001b[0msignature\u001b[0m\u001b[0;34m,\u001b[0m \u001b[0mextobj\u001b[0m\u001b[0;34m=\u001b[0m\u001b[0mextobj\u001b[0m\u001b[0;34m)\u001b[0m\u001b[0;34m\u001b[0m\u001b[0;34m\u001b[0m\u001b[0m\n\u001b[0m\u001b[1;32m    533\u001b[0m     \u001b[0;32mreturn\u001b[0m \u001b[0mwrap\u001b[0m\u001b[0;34m(\u001b[0m\u001b[0mainv\u001b[0m\u001b[0;34m.\u001b[0m\u001b[0mastype\u001b[0m\u001b[0;34m(\u001b[0m\u001b[0mresult_t\u001b[0m\u001b[0;34m,\u001b[0m \u001b[0mcopy\u001b[0m\u001b[0;34m=\u001b[0m\u001b[0;32mFalse\u001b[0m\u001b[0;34m)\u001b[0m\u001b[0;34m)\u001b[0m\u001b[0;34m\u001b[0m\u001b[0;34m\u001b[0m\u001b[0m\n\u001b[1;32m    534\u001b[0m \u001b[0;34m\u001b[0m\u001b[0m\n",
      "\u001b[0;32m/anaconda3/lib/python3.7/site-packages/numpy/linalg/linalg.py\u001b[0m in \u001b[0;36m_raise_linalgerror_singular\u001b[0;34m(err, flag)\u001b[0m\n\u001b[1;32m     87\u001b[0m \u001b[0;34m\u001b[0m\u001b[0m\n\u001b[1;32m     88\u001b[0m \u001b[0;32mdef\u001b[0m \u001b[0m_raise_linalgerror_singular\u001b[0m\u001b[0;34m(\u001b[0m\u001b[0merr\u001b[0m\u001b[0;34m,\u001b[0m \u001b[0mflag\u001b[0m\u001b[0;34m)\u001b[0m\u001b[0;34m:\u001b[0m\u001b[0;34m\u001b[0m\u001b[0;34m\u001b[0m\u001b[0m\n\u001b[0;32m---> 89\u001b[0;31m     \u001b[0;32mraise\u001b[0m \u001b[0mLinAlgError\u001b[0m\u001b[0;34m(\u001b[0m\u001b[0;34m\"Singular matrix\"\u001b[0m\u001b[0;34m)\u001b[0m\u001b[0;34m\u001b[0m\u001b[0;34m\u001b[0m\u001b[0m\n\u001b[0m\u001b[1;32m     90\u001b[0m \u001b[0;34m\u001b[0m\u001b[0m\n\u001b[1;32m     91\u001b[0m \u001b[0;32mdef\u001b[0m \u001b[0m_raise_linalgerror_nonposdef\u001b[0m\u001b[0;34m(\u001b[0m\u001b[0merr\u001b[0m\u001b[0;34m,\u001b[0m \u001b[0mflag\u001b[0m\u001b[0;34m)\u001b[0m\u001b[0;34m:\u001b[0m\u001b[0;34m\u001b[0m\u001b[0;34m\u001b[0m\u001b[0m\n",
      "\u001b[0;31mLinAlgError\u001b[0m: Singular matrix"
     ]
    }
   ],
   "source": [
    "from scipy.linalg import solve_sylvester\n",
    "\n",
    "A_sylvester = -np.linalg.inv(β * A_tilde.T)\n",
    "B_sylvester = A_tilde - B_tilde @ F_tilde\n",
    "Q_sylvester = A_sylvester @ (R_tilde_f + F_tilde.T @ Q_tilde_f @ F_tilde)\n",
    "\n",
    "P_sylv = solve_sylvester(A_sylvester, B_sylvester, Q_sylvester)"
   ]
  },
  {
   "cell_type": "code",
   "execution_count": 11,
   "metadata": {},
   "outputs": [],
   "source": [
    "P_sylv = np.eye(4)\n",
    "max_iter = 1000\n",
    "δ = 1\n",
    "for i in range(max_iter):\n",
    "    δ = (R_tilde_f + F_tilde.T @ Q_tilde_f @ F_tilde + β * A_tilde.T @ P_sylv @ (A_tilde - B_tilde @ F_tilde)) - P_sylv\n",
    "    P_sylv += δ\n",
    "    \n",
    "    if np.max(np.abs(δ)) < 1e-12:\n",
    "        break\n",
    "        \n",
    "if i == max_iter - 1:\n",
    "    print('Max number of iterations reached.')"
   ]
  },
  {
   "cell_type": "code",
   "execution_count": 12,
   "metadata": {},
   "outputs": [
    {
     "data": {
      "text/plain": [
       "array([[25., 25., 25., ..., 25., 25., 25.]])"
      ]
     },
     "execution_count": 12,
     "metadata": {},
     "output_type": "execute_result"
    }
   ],
   "source": [
    "-2 * P_sylv[[-1]] @ x_t_tilde"
   ]
  },
  {
   "cell_type": "code",
   "execution_count": 13,
   "metadata": {},
   "outputs": [
    {
     "data": {
      "text/plain": [
       "array([[False, False, False, ..., False, False, False]])"
      ]
     },
     "execution_count": 13,
     "metadata": {},
     "output_type": "execute_result"
    }
   ],
   "source": [
    "-2 * P_sylv[[-1]] @ x_t_tilde == w_t"
   ]
  },
  {
   "cell_type": "markdown",
   "metadata": {},
   "source": [
    "This doesn't recover the wage computed manually above."
   ]
  },
  {
   "cell_type": "code",
   "execution_count": 14,
   "metadata": {},
   "outputs": [],
   "source": [
    "from quantecon import solve_discrete_lyapunov\n",
    "\n",
    "A_lyapunov = np.sqrt(β) * (A_tilde - B_tilde @ F_tilde)\n",
    "B_lyapunov = R_tilde_f + F_tilde.T @ Q_tilde_f @ F_tilde\n",
    "P_w_2 = solve_discrete_lyapunov(A_lyapunov, B_lyapunov)"
   ]
  },
  {
   "cell_type": "code",
   "execution_count": 15,
   "metadata": {},
   "outputs": [
    {
     "data": {
      "text/plain": [
       "array([[2.5, 2.5, 2.5, ..., 2.5, 2.5, 2.5]])"
      ]
     },
     "execution_count": 15,
     "metadata": {},
     "output_type": "execute_result"
    }
   ],
   "source": [
    "-2 * P_w_2[[-1]] @ x_t_tilde"
   ]
  },
  {
   "cell_type": "code",
   "execution_count": 16,
   "metadata": {},
   "outputs": [
    {
     "data": {
      "text/plain": [
       "array([[ True,  True,  True, ...,  True,  True,  True]])"
      ]
     },
     "execution_count": 16,
     "metadata": {},
     "output_type": "execute_result"
    }
   ],
   "source": [
    "# Check against the one that I computed by hand\n",
    "-2 * P_w_2[[-1]] @ x_t_tilde == w_t"
   ]
  },
  {
   "cell_type": "markdown",
   "metadata": {},
   "source": [
    "Now we look ready to try more complex parametrizations.\n",
    "\n",
    "**TODO:** Refactor the code to avoid repetition"
   ]
  },
  {
   "cell_type": "code",
   "execution_count": 274,
   "metadata": {},
   "outputs": [],
   "source": [
    "# Parameters\n",
    "β = 0.9\n",
    "\n",
    "α_s = 5.\n",
    "ρ_1 = 0.\n",
    "σ_s = 0.\n",
    "\n",
    "α_b = 0.\n",
    "ρ_2 = 0.\n",
    "σ_b = 0.\n",
    "\n",
    "f = 1.\n",
    "h = 1.\n",
    "q = 0.\n",
    "d = 1."
   ]
  },
  {
   "cell_type": "code",
   "execution_count": 275,
   "metadata": {},
   "outputs": [],
   "source": [
    "# Planner LQ problem\n",
    "R_tilde = np.array([[0., 0., 0., 0.],\n",
    "                    [0., 0., 0., -1/2],\n",
    "                    [0., 0., 0., 1/2],\n",
    "                    [0., -1/2, 1/2, f + h + 4 * q]])\n",
    "\n",
    "Q_tilde = np.array([[d + q]])\n",
    "\n",
    "N_tilde = np.array([[0., 0., 0., 2 * q]])\n",
    "\n",
    "A_tilde = np.array([[1., 0., 0., 0.],\n",
    "                    [α_s, ρ_1, 0., 0.],\n",
    "                    [α_b, 0., ρ_2, 0.],\n",
    "                    [0., 0., 0., 1.]])\n",
    "\n",
    "B_tilde = np.array([[0.],\n",
    "                    [0.],\n",
    "                    [0.],\n",
    "                    [1.]])\n",
    "\n",
    "C_tilde = np.array([[0., 0.],\n",
    "                    [σ_s, 0.],\n",
    "                    [0., σ_b],\n",
    "                    [0., 0.]])\n",
    "\n",
    "lq_tilde = qe.LQ(Q_tilde, R_tilde, A_tilde, B_tilde, C=C_tilde, N=N_tilde, beta=β)\n",
    "P_tilde, F_tilde, d_tilde = lq_tilde.stationary_values()"
   ]
  },
  {
   "cell_type": "markdown",
   "metadata": {},
   "source": [
    "Check the following:\n",
    "\n",
    "$$\\tilde{P}=\\tilde{R}+\\tilde{F}'\\tilde{Q}\\tilde{F}+\\beta\\left(\\tilde{A}-\\tilde{B}\\tilde{F}\\right)'\\tilde{P}\\left(\\tilde{A}-\\tilde{B}\\tilde{F}\\right)$$"
   ]
  },
  {
   "cell_type": "code",
   "execution_count": 276,
   "metadata": {},
   "outputs": [
    {
     "data": {
      "text/plain": [
       "2.220446049250313e-16"
      ]
     },
     "execution_count": 276,
     "metadata": {},
     "output_type": "execute_result"
    }
   ],
   "source": [
    "flow_utility = R_tilde + F_tilde.T @ Q_tilde @ F_tilde - 2 * F_tilde.T @ N_tilde\n",
    "continuation_val = (A_tilde - B_tilde @ F_tilde).T @ P_tilde @ (A_tilde - B_tilde @ F_tilde)\n",
    "\n",
    "# Should be very close to 0 if above holds\n",
    "np.max(np.abs(flow_utility + β * continuation_val - P_tilde))"
   ]
  },
  {
   "cell_type": "code",
   "execution_count": 277,
   "metadata": {},
   "outputs": [
    {
     "data": {
      "text/plain": [
       "5.684341886080802e-14"
      ]
     },
     "execution_count": 277,
     "metadata": {},
     "output_type": "execute_result"
    }
   ],
   "source": [
    "# Should be very close to 0\n",
    "np.max(np.abs(solve_discrete_lyapunov(A=np.sqrt(β) * (A_tilde - B_tilde @ F_tilde).T,\n",
    "                               B=R_tilde + F_tilde.T @ Q_tilde @ F_tilde - 2 * F_tilde.T @ N_tilde)\n",
    "              - P_tilde))"
   ]
  },
  {
   "cell_type": "code",
   "execution_count": 278,
   "metadata": {},
   "outputs": [],
   "source": [
    "# Break down the problem for the firm\n",
    "R_tilde_f = np.array([[0., 0., 0., 0.],\n",
    "                      [0., 0., 0., -1/2],\n",
    "                      [0., 0., 0., 0.],\n",
    "                      [0., -1/2, 0., f],])\n",
    "\n",
    "Q_tilde_f = np.array([[d]])\n",
    "\n",
    "A_lyapunov = np.sqrt(β) * (A_tilde - B_tilde @ F_tilde).T\n",
    "B_lyapunov = R_tilde_f + F_tilde.T @ Q_tilde_f @ F_tilde\n",
    "P_w = solve_discrete_lyapunov(A=A_lyapunov, B=B_lyapunov)"
   ]
  },
  {
   "cell_type": "code",
   "execution_count": 279,
   "metadata": {},
   "outputs": [],
   "source": [
    "# Same approach for the worker\n",
    "R_tilde_w = np.array([[0., 0., 0., 0.],\n",
    "                      [0., 0., 0., 0.],\n",
    "                      [0., 0., 0., 1/2],\n",
    "                      [0., 0., 1/2, h + 4 * q]])\n",
    "\n",
    "Q_tilde_w = np.array([[q]])\n",
    "\n",
    "N_tilde_w = np.array([[0., 0., 0., 2 * q]])\n",
    "\n",
    "B_lyapunov2 = R_tilde_w + F_tilde.T @ Q_tilde_w @ F_tilde - 2 * F_tilde.T @ N_tilde_w\n",
    "\n",
    "P_w2 = solve_discrete_lyapunov(A=A_lyapunov, B=B_lyapunov2)"
   ]
  },
  {
   "cell_type": "code",
   "execution_count": 280,
   "metadata": {},
   "outputs": [
    {
     "data": {
      "text/plain": [
       "array([[ True,  True,  True,  True],\n",
       "       [ True,  True,  True,  True],\n",
       "       [ True,  True,  True,  True],\n",
       "       [ True,  True,  True,  True]])"
      ]
     },
     "execution_count": 280,
     "metadata": {},
     "output_type": "execute_result"
    }
   ],
   "source": [
    "R_tilde_w + R_tilde_f == R_tilde"
   ]
  },
  {
   "cell_type": "code",
   "execution_count": 281,
   "metadata": {},
   "outputs": [
    {
     "data": {
      "text/plain": [
       "array([[ True]])"
      ]
     },
     "execution_count": 281,
     "metadata": {},
     "output_type": "execute_result"
    }
   ],
   "source": [
    "Q_tilde_w + Q_tilde_f == Q_tilde"
   ]
  },
  {
   "cell_type": "code",
   "execution_count": 282,
   "metadata": {},
   "outputs": [
    {
     "data": {
      "text/plain": [
       "array([[ True,  True,  True,  True]])"
      ]
     },
     "execution_count": 282,
     "metadata": {},
     "output_type": "execute_result"
    }
   ],
   "source": [
    "N_tilde_w == N_tilde"
   ]
  },
  {
   "cell_type": "code",
   "execution_count": 283,
   "metadata": {},
   "outputs": [
    {
     "data": {
      "text/plain": [
       "5.684341886080802e-14"
      ]
     },
     "execution_count": 283,
     "metadata": {},
     "output_type": "execute_result"
    }
   ],
   "source": [
    "# Should be very close to 0\n",
    "P_w3 = solve_discrete_lyapunov(A=A_lyapunov, B=B_lyapunov+B_lyapunov2)\n",
    "np.max(np.abs(P_w3 - P_tilde))"
   ]
  },
  {
   "cell_type": "markdown",
   "metadata": {},
   "source": [
    "Implied wages"
   ]
  },
  {
   "cell_type": "code",
   "execution_count": 284,
   "metadata": {},
   "outputs": [
    {
     "data": {
      "text/plain": [
       "array([[3.3864]])"
      ]
     },
     "execution_count": 284,
     "metadata": {},
     "output_type": "execute_result"
    }
   ],
   "source": [
    "- 2 * P_w[[-1]] @ x_0_tilde.T"
   ]
  },
  {
   "cell_type": "code",
   "execution_count": 285,
   "metadata": {},
   "outputs": [
    {
     "data": {
      "text/plain": [
       "array([[3.3864]])"
      ]
     },
     "execution_count": 285,
     "metadata": {},
     "output_type": "execute_result"
    }
   ],
   "source": [
    "2 * P_w2[[-1]] @ x_0_tilde.T"
   ]
  },
  {
   "cell_type": "code",
   "execution_count": 286,
   "metadata": {},
   "outputs": [
    {
     "data": {
      "text/plain": [
       "array([[0.]])"
      ]
     },
     "execution_count": 286,
     "metadata": {},
     "output_type": "execute_result"
    }
   ],
   "source": [
    "2 * P_w3[[-1]] @ x_0_tilde.T"
   ]
  },
  {
   "cell_type": "markdown",
   "metadata": {},
   "source": [
    "Do value functions add up?"
   ]
  },
  {
   "cell_type": "code",
   "execution_count": 287,
   "metadata": {},
   "outputs": [
    {
     "data": {
      "text/plain": [
       "array([[-31.25]])"
      ]
     },
     "execution_count": 287,
     "metadata": {},
     "output_type": "execute_result"
    }
   ],
   "source": [
    "x_0_tilde @ P_w @ x_0_tilde.T + x_0_tilde @ P_w2 @ x_0_tilde.T"
   ]
  },
  {
   "cell_type": "code",
   "execution_count": 288,
   "metadata": {},
   "outputs": [
    {
     "data": {
      "text/plain": [
       "array([[-31.25]])"
      ]
     },
     "execution_count": 288,
     "metadata": {},
     "output_type": "execute_result"
    }
   ],
   "source": [
    "x_0_tilde @ P_w3 @ x_0_tilde.T"
   ]
  },
  {
   "cell_type": "code",
   "execution_count": 289,
   "metadata": {},
   "outputs": [
    {
     "data": {
      "text/plain": [
       "array([[ 1.7729,  1.    ,  0.    , -3.4183]])"
      ]
     },
     "execution_count": 289,
     "metadata": {},
     "output_type": "execute_result"
    }
   ],
   "source": [
    "# Wage function with d=1 (computed by hand)\n",
    "(np.array([0., 1., 0., -2]) - 2 * F_tilde)"
   ]
  },
  {
   "cell_type": "code",
   "execution_count": 290,
   "metadata": {},
   "outputs": [
    {
     "data": {
      "text/plain": [
       "array([[2.5]])"
      ]
     },
     "execution_count": 290,
     "metadata": {},
     "output_type": "execute_result"
    }
   ],
   "source": [
    "(np.array([0., 1., 0., -2]) - 2 * F_tilde) @ x_0_tilde.T"
   ]
  },
  {
   "cell_type": "code",
   "execution_count": 291,
   "metadata": {},
   "outputs": [],
   "source": [
    "# Firm LQ problem\n",
    "S_w = -2 * P_w[[-1]]\n",
    "S_s = np.array([[0., 1., 0., 0.]])\n",
    "cross_term = -(S_s - S_w) / 2\n",
    "\n",
    "n = A_tilde.shape[0]\n",
    "\n",
    "R_hat = np.block([[np.zeros((n, n)), cross_term.T],\n",
    "                  [cross_term, f]])\n",
    "\n",
    "Q_hat = np.array([[d]])\n",
    "\n",
    "N_hat = np.zeros((1, n + 1))\n",
    "\n",
    "A_hat = np.block([[A_tilde - B_tilde @ F_tilde, np.zeros((n, 1))],\n",
    "                  [np.zeros((1, n)), np.ones((1, 1))]])\n",
    "\n",
    "B_hat = np.array([[0.],\n",
    "                  [0.],\n",
    "                  [0.],\n",
    "                  [0.],\n",
    "                  [1.]])\n",
    "\n",
    "C_hat = np.vstack((C_tilde, np.zeros((1, C_tilde.shape[1]))))\n",
    "\n",
    "lq_hat = qe.LQ(Q_hat, R_hat, A_hat, B_hat, C=C_hat, N=N_hat, beta=β)\n",
    "P_hat, F_hat, d_hat = lq_hat.stationary_values()"
   ]
  },
  {
   "cell_type": "code",
   "execution_count": 292,
   "metadata": {},
   "outputs": [
    {
     "data": {
      "text/plain": [
       "array([[-0.8864,  0.    ,  0.    ,  0.7092]])"
      ]
     },
     "execution_count": 292,
     "metadata": {},
     "output_type": "execute_result"
    }
   ],
   "source": [
    "F_tilde"
   ]
  },
  {
   "cell_type": "code",
   "execution_count": 293,
   "metadata": {},
   "outputs": [
    {
     "data": {
      "text/plain": [
       "array([[-0.2292,  0.    ,  0.    , -0.1964,  0.5884]])"
      ]
     },
     "execution_count": 293,
     "metadata": {},
     "output_type": "execute_result"
    }
   ],
   "source": [
    "F_hat"
   ]
  },
  {
   "cell_type": "code",
   "execution_count": 294,
   "metadata": {},
   "outputs": [
    {
     "data": {
      "image/png": "[encoded data removed]",
      "text/plain": [
       "<Figure size 432x288 with 1 Axes>"
      ]
     },
     "metadata": {
      "needs_background": "light"
     },
     "output_type": "display_data"
    }
   ],
   "source": [
    "x_0_hat = np.array([[1., 5., 0., 1.25, 1.25]]).T\n",
    "x_t_hat = lq_hat.compute_sequence(x_0_hat, ts_length=1000)[0]\n",
    "\n",
    "plt.plot(x_t_hat[3], label='planner implied')\n",
    "plt.plot(x_t_hat[4], label='firm implied');\n",
    "plt.legend();"
   ]
  },
  {
   "cell_type": "code",
   "execution_count": 295,
   "metadata": {},
   "outputs": [
    {
     "data": {
      "text/plain": [
       "array([1.25, 1.25, 1.25, ..., 1.25, 1.25, 1.25])"
      ]
     },
     "execution_count": 295,
     "metadata": {},
     "output_type": "execute_result"
    }
   ],
   "source": [
    "x_t_hat[3]"
   ]
  },
  {
   "cell_type": "code",
   "execution_count": 296,
   "metadata": {},
   "outputs": [
    {
     "data": {
      "text/plain": [
       "0.0"
      ]
     },
     "execution_count": 296,
     "metadata": {},
     "output_type": "execute_result"
    }
   ],
   "source": [
    "np.var(x_t_hat[3])"
   ]
  },
  {
   "cell_type": "code",
   "execution_count": 297,
   "metadata": {},
   "outputs": [
    {
     "data": {
      "text/plain": [
       "array([1.25  , 0.9892, 0.8819, ..., 0.8068, 0.8068, 0.8068])"
      ]
     },
     "execution_count": 297,
     "metadata": {},
     "output_type": "execute_result"
    }
   ],
   "source": [
    "x_t_hat[4]"
   ]
  },
  {
   "cell_type": "code",
   "execution_count": 298,
   "metadata": {},
   "outputs": [
    {
     "data": {
      "text/plain": [
       "0.0002357102288177184"
      ]
     },
     "execution_count": 298,
     "metadata": {},
     "output_type": "execute_result"
    }
   ],
   "source": [
    "np.var(x_t_hat[4])"
   ]
  },
  {
   "cell_type": "code",
   "execution_count": 299,
   "metadata": {},
   "outputs": [
    {
     "data": {
      "text/plain": [
       "0.44322084543531903"
      ]
     },
     "execution_count": 299,
     "metadata": {},
     "output_type": "execute_result"
    }
   ],
   "source": [
    "# Sup norm\n",
    "np.max(np.abs(x_t_hat[3] - x_t_hat[4]))"
   ]
  },
  {
   "cell_type": "markdown",
   "metadata": {},
   "source": [
    "## Exercise 5"
   ]
  },
  {
   "cell_type": "code",
   "execution_count": 300,
   "metadata": {},
   "outputs": [],
   "source": [
    "# Worker LQ problem\n",
    "S_b = np.array([[0., 0., 1., 0.]])\n",
    "cross_term = (S_b - S_w) / 2\n",
    "\n",
    "n = A_tilde.shape[0]\n",
    "\n",
    "R_hat = np.block([[np.zeros((n, n)), cross_term.T],\n",
    "                  [cross_term, h + 4 * q]])\n",
    "\n",
    "Q_hat = np.array([[q]])\n",
    "\n",
    "N_hat = np.array([[0., 0., 0., 0., 2 * q]])\n",
    "\n",
    "A_hat = np.block([[A_tilde - B_tilde @ F_tilde, np.zeros((n, 1))],\n",
    "                  [np.zeros((1, n)), np.ones((1, 1))]])\n",
    "\n",
    "B_hat = np.array([[0.],\n",
    "                  [0.],\n",
    "                  [0.],\n",
    "                  [0.],\n",
    "                  [1.]])\n",
    "\n",
    "C_hat = np.vstack((C_tilde, np.zeros((1, C_tilde.shape[1]))))\n",
    "\n",
    "lq_hat = qe.LQ(Q_hat, R_hat, A_hat, B_hat, C=C_hat, N=N_hat, beta=β)\n",
    "P_hat, F_hat, d_hat = lq_hat.stationary_values()"
   ]
  },
  {
   "cell_type": "code",
   "execution_count": 301,
   "metadata": {},
   "outputs": [
    {
     "data": {
      "image/png": "[encoded data removed]",
      "text/plain": [
       "<Figure size 432x288 with 1 Axes>"
      ]
     },
     "metadata": {
      "needs_background": "light"
     },
     "output_type": "display_data"
    }
   ],
   "source": [
    "x_0_hat = np.array([[1., 5., 0., 1.25, 1.25]]).T\n",
    "x_t_hat = lq_hat.compute_sequence(x_0_hat, ts_length=1000)[0]\n",
    "\n",
    "plt.plot(x_t_hat[3], label='planner implied')\n",
    "plt.plot(x_t_hat[4], label='worked implied')\n",
    "plt.legend();"
   ]
  },
  {
   "cell_type": "code",
   "execution_count": 302,
   "metadata": {},
   "outputs": [
    {
     "data": {
      "text/plain": [
       "0.44322084543531926"
      ]
     },
     "execution_count": 302,
     "metadata": {},
     "output_type": "execute_result"
    }
   ],
   "source": [
    "# Sup norm\n",
    "np.max(np.abs(x_t_hat[3] - x_t_hat[4]))"
   ]
  }
 ],
 "metadata": {
  "kernelspec": {
   "display_name": "Python 3",
   "language": "python",
   "name": "python3"
  },
  "language_info": {
   "codemirror_mode": {
    "name": "ipython",
    "version": 3
   },
   "file_extension": ".py",
   "mimetype": "text/x-python",
   "name": "python",
   "nbconvert_exporter": "python",
   "pygments_lexer": "ipython3",
   "version": "3.7.1"
  }
 },
 "nbformat": 4,
 "nbformat_minor": 2
}
